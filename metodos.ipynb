{
 "cells": [
  {
   "cell_type": "code",
   "execution_count": 89,
   "id": "a5e0b0e6",
   "metadata": {},
   "outputs": [
    {
     "name": "stdout",
     "output_type": "stream",
     "text": [
      "1111\n",
      "11110\n",
      "10001000101110111\n",
      "6\n",
      "120\n",
      "80658175170943878571660636856403766975289505440883277824000000000000\n"
     ]
    }
   ],
   "source": [
    "def decabin(n):\n",
    "    b = 0\n",
    "    c = 0\n",
    "    while(n>0):\n",
    "        b = b + (n % 2)*(10 ** c)\n",
    "        n = n//2\n",
    "        c += 1\n",
    "    return(b)\n",
    "    \n",
    "def fac(n):\n",
    "    if (n == 0):\n",
    "        return 1\n",
    "    return n * fac(n-1)\n",
    "    \n",
    "print(decabin(15))\n",
    "print(decabin(30))\n",
    "print(decabin(70007))\n",
    "\n",
    "print(fac(3))\n",
    "print(fac(5))\n",
    "print(fac(52))"
   ]
  }
 ],
 "metadata": {
  "kernelspec": {
   "display_name": "Python 3 (ipykernel)",
   "language": "python",
   "name": "python3"
  },
  "language_info": {
   "codemirror_mode": {
    "name": "ipython",
    "version": 3
   },
   "file_extension": ".py",
   "mimetype": "text/x-python",
   "name": "python",
   "nbconvert_exporter": "python",
   "pygments_lexer": "ipython3",
   "version": "3.11.2"
  }
 },
 "nbformat": 4,
 "nbformat_minor": 5
}
